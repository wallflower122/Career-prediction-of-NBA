{
  "nbformat": 4,
  "nbformat_minor": 0,
  "metadata": {
    "colab": {
      "name": "HyperParameter Tuning.ipynb",
      "provenance": []
    },
    "kernelspec": {
      "name": "python3",
      "display_name": "Python 3"
    },
    "language_info": {
      "name": "python"
    }
  },
  "cells": [
    {
      "cell_type": "code",
      "source": [
        "reduced=train.copy()\n",
        "from sklearn.utils import shuffle\n",
        "reduced = shuffle(reduced,random_state=67)"
      ],
      "metadata": {
        "id": "JFPhwyWSPGUf"
      },
      "execution_count": null,
      "outputs": []
    },
    {
      "cell_type": "code",
      "source": [
        "X_2=reduced.drop(['Target','FGM','FG%','REB','FTA'],axis=1)\n",
        "Y_2=reduced['Target']"
      ],
      "metadata": {
        "id": "cEfVv9PWPRhF"
      },
      "execution_count": null,
      "outputs": []
    },
    {
      "cell_type": "code",
      "source": [
        "X_3=reduced.drop(['Target'],axis=1)\n",
        "Y_3=reduced['Target']"
      ],
      "metadata": {
        "id": "JH_nsQt5HtZq"
      },
      "execution_count": null,
      "outputs": []
    },
    {
      "cell_type": "code",
      "source": [
        "X_train2, X_test2, Y_train2, Y_test2 = train_test_split(X_3,Y_3,test_size=0.15, random_state = 2022)"
      ],
      "metadata": {
        "id": "0x3nT06dHwdK"
      },
      "execution_count": null,
      "outputs": []
    },
    {
      "cell_type": "code",
      "source": [
        "X_trainr, X_testr, Y_trainr, Y_testr = train_test_split(X_2,Y_2,test_size=0.15, random_state = 2022)"
      ],
      "metadata": {
        "id": "zN8pKdIk5Es3"
      },
      "execution_count": null,
      "outputs": []
    },
    {
      "cell_type": "code",
      "source": [
        "scaler = StandardScaler()\n",
        "X_trainr = scaler.fit_transform(X_trainr)\n",
        "X_testr = scaler.transform(X_testr)"
      ],
      "metadata": {
        "id": "1TCKqcMMRrDF"
      },
      "execution_count": null,
      "outputs": []
    },
    {
      "cell_type": "code",
      "source": [
        "scaler = StandardScaler()\n",
        "X_train2 = scaler.fit_transform(X_train2)\n",
        "X_test2 = scaler.transform(X_test2)"
      ],
      "metadata": {
        "id": "b4FG1AXMI_KW"
      },
      "execution_count": null,
      "outputs": []
    },
    {
      "cell_type": "code",
      "source": [
        "from sklearn.ensemble import RandomForestClassifier\n",
        "clf3 = RandomForestClassifier(random_state=1,n_estimators=1000,max_depth=10)\n",
        "clf3=clf3.fit( X_train, Y_train)\n",
        "clf3.score(X_test,Y_test) "
      ],
      "metadata": {
        "id": "TW2pm7oxDGih",
        "colab": {
          "base_uri": "https://localhost:8080/"
        },
        "outputId": "f219bf86-c24d-4c55-84bb-33e49d777235"
      },
      "execution_count": null,
      "outputs": [
        {
          "output_type": "execute_result",
          "data": {
            "text/plain": [
              "0.7228915662650602"
            ]
          },
          "metadata": {},
          "execution_count": 566
        }
      ]
    },
    {
      "cell_type": "code",
      "source": [
        "clf1 = RandomForestClassifier(random_state=42,n_estimators=473,n_jobs=-1,min_samples_split=3,min_samples_leaf=1,max_depth=26,bootstrap=False)\n",
        "clf1=clf1.fit( X_train, Y_train)\n",
        "clf1.score(X_test,Y_test) "
      ],
      "metadata": {
        "id": "98-utkr-v4XD",
        "colab": {
          "base_uri": "https://localhost:8080/"
        },
        "outputId": "8f6f5b71-e912-4eca-e411-2a229dae2570"
      },
      "execution_count": null,
      "outputs": [
        {
          "output_type": "execute_result",
          "data": {
            "text/plain": [
              "0.7349397590361446"
            ]
          },
          "metadata": {},
          "execution_count": 567
        }
      ]
    },
    {
      "cell_type": "code",
      "source": [
        "n_estimators = [5,20,50,100,200,300,400,600] # number of trees in the random forest\n",
        "max_features = ['auto', 'sqrt'] # number of features in consideration at every split\n",
        "max_depth = [int(x) for x in np.linspace(10, 120, num = 12)] # maximum number of levels allowed in each decision tree\n",
        "min_samples_split = [2, 6, 10] # minimum sample number to split a node\n",
        "min_samples_leaf = [1, 3, 4] # minimum sample number that can be stored in a leaf node\n",
        "bootstrap = [True, False] # method used to sample data points\n",
        "\n",
        "random_grid = {'n_estimators': n_estimators,\n",
        "\n",
        "'max_features': max_features,\n",
        "\n",
        "'max_depth': max_depth,\n",
        "\n",
        "'min_samples_split': min_samples_split,\n",
        "\n",
        "'min_samples_leaf': min_samples_leaf,\n",
        "\n",
        "'bootstrap': bootstrap}\n",
        "\n",
        "from sklearn.model_selection import RandomizedSearchCV,GridSearchCV\n",
        "# from pprint import pprint\n",
        "\n",
        "# n_estimators = [int(x) for x in np.linspace(start = 1, stop = 600, num = 20)]\n",
        "# max_depth = [int(x) for x in np.linspace(10, 60, num = 10)]\n",
        "# max_depth.append(None)\n",
        "# min_samples_split = [2,3,4]\n",
        "# min_samples_leaf = [1,2,3]\n",
        "# bootstrap=[True,False]\n",
        "\n",
        "# random_grid = {'n_estimators': n_estimators,'max_depth': max_depth,'min_samples_split':min_samples_split,'min_samples_leaf':min_samples_leaf}"
      ],
      "metadata": {
        "id": "E7kfW5SI7BiE"
      },
      "execution_count": null,
      "outputs": []
    },
    {
      "cell_type": "code",
      "source": [
        "rf_random.best_params_"
      ],
      "metadata": {
        "id": "mnmkPXG1WN69",
        "colab": {
          "base_uri": "https://localhost:8080/"
        },
        "outputId": "26698528-7330-4124-df77-7bb4e0ed1a23"
      },
      "execution_count": null,
      "outputs": [
        {
          "output_type": "execute_result",
          "data": {
            "text/plain": [
              "{'bootstrap': True,\n",
              " 'max_depth': 60,\n",
              " 'max_features': 'sqrt',\n",
              " 'min_samples_leaf': 1,\n",
              " 'min_samples_split': 6,\n",
              " 'n_estimators': 300}"
            ]
          },
          "metadata": {},
          "execution_count": 572
        }
      ]
    },
    {
      "cell_type": "code",
      "source": [
        "rclf = RandomForestClassifier(n_estimators= 300, min_samples_split= 6, min_samples_leaf= 1, max_features= 'sqrt', max_depth= 60, bootstrap= True,random_state=0)\n",
        "rclf=rclf.fit( X_train2, Y_train2)\n",
        "cv_arr = cross_val_score(rclf, X_train2, Y_train2, cv=5, scoring=\"accuracy\")\n",
        "cv_arr\n",
        "cv_avg = sum(cv_arr)/len(cv_arr)\n",
        "cv_avg"
      ],
      "metadata": {
        "colab": {
          "base_uri": "https://localhost:8080/"
        },
        "id": "2NVt05taTPA2",
        "outputId": "a8898108-5021-4647-91f7-5e94a732ef7e"
      },
      "execution_count": null,
      "outputs": [
        {
          "output_type": "execute_result",
          "data": {
            "text/plain": [
              "0.7037433155080214"
            ]
          },
          "metadata": {},
          "execution_count": 573
        }
      ]
    },
    {
      "cell_type": "code",
      "source": [
        "randmf2 = RandomForestClassifier(n_estimators= 300, min_samples_split= 6, min_samples_leaf= 1, max_features= 'sqrt', max_depth= 60, bootstrap= True,random_state=42) \n",
        "randmf2=randmf2.fit( X_train, Y_train)"
      ],
      "metadata": {
        "id": "dR0SxPDnX63I"
      },
      "execution_count": null,
      "outputs": []
    },
    {
      "cell_type": "code",
      "source": [
        "Y_prede=randmf2.predict(X_test)\n",
        "accuracy_score(Y_test, Y_prede)"
      ],
      "metadata": {
        "colab": {
          "base_uri": "https://localhost:8080/"
        },
        "id": "kBYIpJfL7j7H",
        "outputId": "e982ab28-34c9-4217-ab2d-079c7ea9ae2b"
      },
      "execution_count": null,
      "outputs": [
        {
          "output_type": "execute_result",
          "data": {
            "text/plain": [
              "0.7168674698795181"
            ]
          },
          "metadata": {},
          "execution_count": 580
        }
      ]
    }
  ]
}